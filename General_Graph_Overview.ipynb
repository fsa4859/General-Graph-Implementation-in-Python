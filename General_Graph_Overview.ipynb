{
  "nbformat": 4,
  "nbformat_minor": 0,
  "metadata": {
    "colab": {
      "name": "Untitled10.ipynb",
      "provenance": []
    },
    "kernelspec": {
      "name": "python3",
      "display_name": "Python 3"
    },
    "language_info": {
      "name": "python"
    }
  },
  "cells": [
    {
      "cell_type": "markdown",
      "source": [
        "**Implementation of Graph**"
      ],
      "metadata": {
        "id": "QgjrkqG575NI"
      }
    },
    {
      "cell_type": "code",
      "source": [
        "from enum import Enum"
      ],
      "metadata": {
        "id": "ytwk5aJf8BGt"
      },
      "execution_count": 1,
      "outputs": []
    },
    {
      "cell_type": "code",
      "source": [
        "class State(Enum):\n",
        "  unvisited=1 # white\n",
        "  visited=2 # black\n",
        "  visiting=3 # gray"
      ],
      "metadata": {
        "id": "i939g5XF8v3b"
      },
      "execution_count": 2,
      "outputs": []
    },
    {
      "cell_type": "code",
      "source": [
        "from collections import OrderedDict\n",
        "\n",
        "class Node:\n",
        "  def __init__(self,num):\n",
        "    self.num=num\n",
        "    self.visit_state=State.unvisited\n",
        "    self.adjacent=OrderedDict() # key is the node and value is the weight\n",
        "  \n",
        "  def __str__(self):\n",
        "    return str(self.num)"
      ],
      "metadata": {
        "id": "VV_pHykQCaXP"
      },
      "execution_count": 3,
      "outputs": []
    },
    {
      "cell_type": "code",
      "source": [
        "class Graph:\n",
        "  def __init__(self):\n",
        "    self.nodes=OrderedDict()\n",
        "  \n",
        "  def add_node(self,num):\n",
        "    node=Node(num)\n",
        "    self.nodes[num]=node\n",
        "    return node\n",
        "  \n",
        "  def add_edge(self,source,destination,weight=0):\n",
        "    if source not in self.nodes:\n",
        "      self.add_node(source)\n",
        "    if destination not in self.nodes:\n",
        "      self.add_node(destination)\n",
        "    self.nodes[source].adjacent[self.nodes[destination]]=weight"
      ],
      "metadata": {
        "id": "-JRLuSJVC3Pc"
      },
      "execution_count": 4,
      "outputs": []
    },
    {
      "cell_type": "code",
      "source": [
        "g=Graph()"
      ],
      "metadata": {
        "id": "EwJrtj87E4tb"
      },
      "execution_count": 5,
      "outputs": []
    },
    {
      "cell_type": "code",
      "source": [
        "g.add_node(1)"
      ],
      "metadata": {
        "colab": {
          "base_uri": "https://localhost:8080/"
        },
        "id": "CpOMigo7E6hA",
        "outputId": "e04346ea-4f5d-4240-dcdb-d1154f160471"
      },
      "execution_count": 6,
      "outputs": [
        {
          "output_type": "execute_result",
          "data": {
            "text/plain": [
              "<__main__.Node at 0x7fa7e57178d0>"
            ]
          },
          "metadata": {},
          "execution_count": 6
        }
      ]
    },
    {
      "cell_type": "code",
      "source": [
        "g.nodes"
      ],
      "metadata": {
        "colab": {
          "base_uri": "https://localhost:8080/"
        },
        "id": "m_OZAm2wE9GO",
        "outputId": "0c1d1221-c543-402b-b4ad-33e526148cc2"
      },
      "execution_count": 7,
      "outputs": [
        {
          "output_type": "execute_result",
          "data": {
            "text/plain": [
              "OrderedDict([(1, <__main__.Node at 0x7fa7e57178d0>)])"
            ]
          },
          "metadata": {},
          "execution_count": 7
        }
      ]
    },
    {
      "cell_type": "code",
      "source": [
        "g.add_edge(1,2,3.5)"
      ],
      "metadata": {
        "id": "80fvLcavFBGi"
      },
      "execution_count": 8,
      "outputs": []
    },
    {
      "cell_type": "code",
      "source": [
        "g.nodes"
      ],
      "metadata": {
        "colab": {
          "base_uri": "https://localhost:8080/"
        },
        "id": "1O79rYIpFH2h",
        "outputId": "bfcbfeec-d746-46db-db50-d5a1b74668a5"
      },
      "execution_count": 9,
      "outputs": [
        {
          "output_type": "execute_result",
          "data": {
            "text/plain": [
              "OrderedDict([(1, <__main__.Node at 0x7fa7e57178d0>),\n",
              "             (2, <__main__.Node at 0x7fa7e56e7d90>)])"
            ]
          },
          "metadata": {},
          "execution_count": 9
        }
      ]
    },
    {
      "cell_type": "code",
      "source": [
        ""
      ],
      "metadata": {
        "id": "Yo33A1vkFNFI"
      },
      "execution_count": null,
      "outputs": []
    }
  ]
}